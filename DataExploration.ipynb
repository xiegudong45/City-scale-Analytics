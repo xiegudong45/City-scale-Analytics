{
 "cells": [
  {
   "cell_type": "code",
   "execution_count": 4,
   "metadata": {
    "scrolled": false
   },
   "outputs": [
    {
     "name": "stdout",
     "output_type": "stream",
     "text": [
      "42161\n"
     ]
    }
   ],
   "source": [
    "import json\n",
    "import pandas as pd\n",
    "\n",
    "with open('sidewalks.geojson') as f:\n",
    "    data = json.load(f)\n",
    "\n",
    "df = pd.DataFrame(columns=['ID',\n",
    "                           'forward',\n",
    "                               'incline',\n",
    "                               'layer',\n",
    "                               'side',\n",
    "                               'street_name',\n",
    "                               'surface',\n",
    "                               'width',\n",
    "                               'length',\n",
    "                               'v_coordinates',\n",
    "                          'u_coordinates'])\n",
    "\n",
    "id = 0;\n",
    "count = 0;\n",
    "for feature in data['features']:\n",
    "    count+=1;\n",
    "    id+=1\n",
    "    print(id)\n",
    "    properties = feature[\"properties\"]\n",
    "    if (feature['geometry']['coordinates']):\n",
    "        df.loc[df.shape[0]] = [id,\n",
    "                          properties['forward'] if 'forward' in properties else \"N/A\",\n",
    "                          properties['incline'] if  'incline' in properties else \"N/A\",\n",
    "                          properties['layer'] if 'layer' in properties else \"N/A\",\n",
    "                          properties['side'] if 'side' in properties else \"N/A\",\n",
    "                          properties['street_name'] if 'street_name' in properties else \"N/A\",\n",
    "                          properties['surface'] if 'surface' in properties else \"N/A\",\n",
    "                          properties['width'] if 'width' in properties else \"N/A\",\n",
    "                          properties['length'] if 'length' in properties else \"N/A\",\n",
    "                          \"(\" + str(feature['geometry']['coordinates'][0][0]) + \",\" + str(feature['geometry']['coordinates'][0][1]) + \")\",\n",
    "                          \"(\" + str(feature['geometry']['coordinates'][1][0]) + \",\" + str(feature['geometry']['coordinates'][1][1]) + \")\"]\n",
    "    \n",
    "print(\"Total sidewalk number: \" + id)    \n",
    "filename = \"sidewalks.csv\"\n",
    "df.to_csv(filename,  encoding='utf-8')\n"
   ]
  },
  {
   "cell_type": "code",
   "execution_count": 10,
   "metadata": {},
   "outputs": [],
   "source": [
    "import json\n",
    "import pandas as pd\n",
    "\n",
    "with open('./Shenghao/data/park_only_boundary1.geojson') as f:\n",
    "    data = json.load(f)\n",
    "\n",
    "df = pd.DataFrame(columns=['id','name',\n",
    "                          'shape_area',\n",
    "                          'geometry'])\n",
    "\n",
    "id = 0;\n",
    "count = 0;\n",
    "for feature in data['features']:\n",
    "    count+=1;\n",
    "    id+=1\n",
    "    properties = feature[\"properties\"]\n",
    "    if (feature['geometry']['coordinates']):\n",
    "        df.loc[df.shape[0]] = [id,\n",
    "                          feature[\"properties\"]['name'] if 'name' in properties else \"N/A\",\n",
    "                          feature[\"properties\"]['shape_area'] if  'shape_area' in properties else \"N/A\",\n",
    "                          feature['geometry']['coordinates']]\n",
    "\n",
    "\n",
    "filename = \"./Shenghao/data/park_only_boundary1.csv\"\n",
    "df.to_csv(filename,  encoding='utf-8')\n"
   ]
  },
  {
   "cell_type": "code",
   "execution_count": 3,
   "metadata": {},
   "outputs": [
    {
     "name": "stdout",
     "output_type": "stream",
     "text": [
      "  ID curbramps marked street_name                             v_coordinates  \\\n",
      "0  1         1      0     1ST AVE   (-122.33431401027788,47.60182781256348)   \n",
      "1  2         1      1   1ST AVE S  (-122.33404306326725,47.601635718972425)   \n",
      "2  3         1      1  YESLER WAY  (-122.33431469599236,47.601647076923264)   \n",
      "3  4         1      1  YESLER WAY    (-122.33404253714325,47.6017783259093)   \n",
      "4  5         1      1     1ST AVE   (-122.33410268592525,47.60253483195087)   \n",
      "\n",
      "                              u_coordinates  \n",
      "0    (-122.33404253714325,47.6017783259093)  \n",
      "1  (-122.33431469599236,47.601647076923264)  \n",
      "2   (-122.33431401027788,47.60182781256348)  \n",
      "3  (-122.33404306326725,47.601635718972425)  \n",
      "4  (-122.33433442521338,47.602439283307696)  \n"
     ]
    },
    {
     "ename": "TypeError",
     "evalue": "can only concatenate str (not \"int\") to str",
     "output_type": "error",
     "traceback": [
      "\u001b[0;31m---------------------------------------------------------------------------\u001b[0m",
      "\u001b[0;31mTypeError\u001b[0m                                 Traceback (most recent call last)",
      "\u001b[0;32m<ipython-input-3-e64501966797>\u001b[0m in \u001b[0;36m<module>\u001b[0;34m()\u001b[0m\n\u001b[1;32m     25\u001b[0m         \u001b[0mprint\u001b[0m\u001b[0;34m(\u001b[0m\u001b[0mid\u001b[0m\u001b[0;34m)\u001b[0m\u001b[0;34m\u001b[0m\u001b[0m\n\u001b[1;32m     26\u001b[0m \u001b[0mprint\u001b[0m\u001b[0;34m(\u001b[0m\u001b[0mdf\u001b[0m\u001b[0;34m.\u001b[0m\u001b[0mhead\u001b[0m\u001b[0;34m(\u001b[0m\u001b[0;34m)\u001b[0m\u001b[0;34m)\u001b[0m\u001b[0;34m\u001b[0m\u001b[0m\n\u001b[0;32m---> 27\u001b[0;31m \u001b[0mprint\u001b[0m\u001b[0;34m(\u001b[0m\u001b[0;34m\"Total crossing number: \"\u001b[0m \u001b[0;34m+\u001b[0m \u001b[0mid\u001b[0m\u001b[0;34m)\u001b[0m\u001b[0;34m\u001b[0m\u001b[0m\n\u001b[0m\u001b[1;32m     28\u001b[0m \u001b[0mfilename\u001b[0m \u001b[0;34m=\u001b[0m \u001b[0;34m\"crossings.csv\"\u001b[0m\u001b[0;34m\u001b[0m\u001b[0m\n\u001b[1;32m     29\u001b[0m \u001b[0mdf\u001b[0m\u001b[0;34m.\u001b[0m\u001b[0mto_csv\u001b[0m\u001b[0;34m(\u001b[0m\u001b[0mfilename\u001b[0m\u001b[0;34m,\u001b[0m  \u001b[0mencoding\u001b[0m\u001b[0;34m=\u001b[0m\u001b[0;34m'utf-8'\u001b[0m\u001b[0;34m)\u001b[0m\u001b[0;34m\u001b[0m\u001b[0m\n",
      "\u001b[0;31mTypeError\u001b[0m: can only concatenate str (not \"int\") to str"
     ]
    }
   ],
   "source": [
    "import json\n",
    "import pandas as pd\n",
    "with open('./data_table/crossings.geojson') as f:\n",
    "    data = json.load(f)\n",
    "\n",
    "df = pd.DataFrame(columns=['ID',\n",
    "                           'curbramps',\n",
    "                               'marked',\n",
    "                          'street_name',\n",
    "                          'v_coordinates',\n",
    "                          'u_coordinates'])\n",
    "\n",
    "id = 0;\n",
    "for feature in data['features']:\n",
    "    id+=1\n",
    "    properties = feature[\"properties\"]\n",
    "    if (feature['geometry']['coordinates']):\n",
    "        df.loc[df.shape[0]] = [id,\n",
    "                          properties['curbramps'] if 'curbramps' in properties else \"N/A\",\n",
    "                          properties['marked'] if  'marked' in properties else \"N/A\",\n",
    "                          properties['street_name'] if 'street_name' in properties else \"N/A\",\n",
    "                          \"(\" + str(feature['geometry']['coordinates'][0][0]) + \",\" + str(feature['geometry']['coordinates'][0][1]) + \")\",\n",
    "                          \"(\" + str(feature['geometry']['coordinates'][1][0]) + \",\" + str(feature['geometry']['coordinates'][1][1]) + \")\"]\n",
    "    else:\n",
    "        print(id)\n",
    "print(df.head())\n",
    "print(\"Total crossing number: \" + id)   \n",
    "filename = \"crossings.csv\"\n",
    "df.to_csv(filename,  encoding='utf-8')\n"
   ]
  },
  {
   "cell_type": "code",
   "execution_count": null,
   "metadata": {},
   "outputs": [],
   "source": []
  }
 ],
 "metadata": {
  "kernelspec": {
   "display_name": "Python 3",
   "language": "python",
   "name": "python3"
  },
  "language_info": {
   "codemirror_mode": {
    "name": "ipython",
    "version": 3
   },
   "file_extension": ".py",
   "mimetype": "text/x-python",
   "name": "python",
   "nbconvert_exporter": "python",
   "pygments_lexer": "ipython3",
   "version": "3.7.0"
  }
 },
 "nbformat": 4,
 "nbformat_minor": 2
}
