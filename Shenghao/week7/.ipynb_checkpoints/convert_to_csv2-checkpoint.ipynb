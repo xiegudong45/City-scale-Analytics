{
 "cells": [
  {
   "cell_type": "code",
   "execution_count": null,
   "metadata": {},
   "outputs": [],
   "source": [
    "import json\n",
    "import pandas as pd\n",
    "\n",
    "with open('./Shenghao/data/park_only_boundary1.geojson') as f:\n",
    "    data = json.load(f)\n",
    "\n",
    "df = pd.DataFrame(columns=['id','name',\n",
    "                          'shape_area',\n",
    "                          'geometry'])\n",
    "\n",
    "id = 0;\n",
    "count = 0;\n",
    "for feature in data['features']:\n",
    "    count+=1;\n",
    "    id+=1\n",
    "    properties = feature[\"properties\"]\n",
    "    if (feature['geometry']['coordinates']):\n",
    "        df.loc[df.shape[0]] = [id,\n",
    "                          feature[\"properties\"]['name'] if 'name' in properties else \"N/A\",\n",
    "                          feature[\"properties\"]['shape_area'] if  'shape_area' in properties else \"N/A\",\n",
    "                          feature['geometry']['coordinates']]\n",
    "\n",
    "\n",
    "filename = \"./Shenghao/data/park_only_boundary1.csv\"\n",
    "df.to_csv(filename,  encoding='utf-8')"
   ]
  }
 ],
 "metadata": {
  "kernelspec": {
   "display_name": "Python 3",
   "language": "python",
   "name": "python3"
  },
  "language_info": {
   "codemirror_mode": {
    "name": "ipython",
    "version": 3
   },
   "file_extension": ".py",
   "mimetype": "text/x-python",
   "name": "python",
   "nbconvert_exporter": "python",
   "pygments_lexer": "ipython3",
   "version": "3.7.0"
  }
 },
 "nbformat": 4,
 "nbformat_minor": 2
}
